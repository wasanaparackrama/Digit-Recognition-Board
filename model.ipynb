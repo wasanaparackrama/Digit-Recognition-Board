{
  "nbformat": 4,
  "nbformat_minor": 0,
  "metadata": {
    "colab": {
      "name": "Model.ipynb",
      "provenance": [],
      "collapsed_sections": []
    },
    "kernelspec": {
      "name": "python3",
      "display_name": "Python 3"
    },
    "language_info": {
      "name": "python"
    }
  },
  "cells": [
    {
      "cell_type": "code",
      "metadata": {
        "id": "dMitQedsumSZ"
      },
      "source": [
        "from keras.datasets import mnist\n",
        "import numpy as np\n",
        "import matplotlib.pyplot as plt"
      ],
      "execution_count": 90,
      "outputs": []
    },
    {
      "cell_type": "code",
      "metadata": {
        "id": "zx8et5-YvGtS"
      },
      "source": [
        "(X_train,y_train),(X_test,y_test)=mnist.load_data()"
      ],
      "execution_count": 91,
      "outputs": []
    },
    {
      "cell_type": "code",
      "metadata": {
        "colab": {
          "base_uri": "https://localhost:8080/"
        },
        "id": "bNKLZmJJvuUt",
        "outputId": "cad8d546-5155-4f32-85f2-b7f58dab2ddf"
      },
      "source": [
        "X_train.shape"
      ],
      "execution_count": 92,
      "outputs": [
        {
          "output_type": "execute_result",
          "data": {
            "text/plain": [
              "(60000, 28, 28)"
            ]
          },
          "metadata": {
            "tags": []
          },
          "execution_count": 92
        }
      ]
    },
    {
      "cell_type": "code",
      "metadata": {
        "id": "LCqouC4RGMRp"
      },
      "source": [
        "#X_train=X_train.reshape(-1,28,28,1)\n",
        "#X_test=X_test.reshape(-1,28,28,1)"
      ],
      "execution_count": 83,
      "outputs": []
    },
    {
      "cell_type": "code",
      "metadata": {
        "colab": {
          "base_uri": "https://localhost:8080/",
          "height": 281
        },
        "id": "gUZn2pHov3wZ",
        "outputId": "0a92ca7d-04fa-4a04-dc27-deff49de50cb"
      },
      "source": [
        "plt.imshow(X_train[300])\n",
        "plt.title(y_train[300])\n",
        "plt.show()"
      ],
      "execution_count": 93,
      "outputs": [
        {
          "output_type": "display_data",
          "data": {
            "image/png": "[encoded data removed]",
            "text/plain": [
              "<Figure size 432x288 with 1 Axes>"
            ]
          },
          "metadata": {
            "tags": [],
            "needs_background": "light"
          }
        }
      ]
    },
    {
      "cell_type": "code",
      "metadata": {
        "colab": {
          "base_uri": "https://localhost:8080/"
        },
        "id": "-DUjRLaw4n8B",
        "outputId": "0379956d-2e81-463e-dc3f-2a2ff4532923"
      },
      "source": [
        "X_train.shape"
      ],
      "execution_count": 94,
      "outputs": [
        {
          "output_type": "execute_result",
          "data": {
            "text/plain": [
              "(60000, 28, 28)"
            ]
          },
          "metadata": {
            "tags": []
          },
          "execution_count": 94
        }
      ]
    },
    {
      "cell_type": "code",
      "metadata": {
        "id": "TfLX1dj9F0UI"
      },
      "source": [
        "#X_train=X_train.reshape((-1,28,28,1))"
      ],
      "execution_count": 78,
      "outputs": []
    },
    {
      "cell_type": "code",
      "metadata": {
        "id": "YupRdj9f4FNQ"
      },
      "source": [
        "##creating a model\n"
      ],
      "execution_count": 64,
      "outputs": []
    },
    {
      "cell_type": "code",
      "metadata": {
        "id": "JBLlxOIi4LJY"
      },
      "source": [
        "from keras.layers import Dense,Conv2D,AveragePooling2D,Flatten\n",
        "from keras.models import Sequential\n"
      ],
      "execution_count": 95,
      "outputs": []
    },
    {
      "cell_type": "code",
      "metadata": {
        "id": "hBT6veLD5Ptn"
      },
      "source": [
        "model=Sequential()"
      ],
      "execution_count": 96,
      "outputs": []
    },
    {
      "cell_type": "code",
      "metadata": {
        "id": "lz14D-LB4ozR"
      },
      "source": [
        "model.add(Conv2D(filters = 4,kernel_size = (5,5),activation ='relu', input_shape = (28,28,1)))\n",
        "model.add(AveragePooling2D(pool_size=(2,2)))\n",
        "\n",
        "model.add(Conv2D(filters = 4,kernel_size = (7,7),activation ='relu', input_shape = (28,28,1)))\n",
        "model.add(AveragePooling2D(pool_size=(2,2)))\n",
        "\n",
        "model.add(Flatten())\n",
        "model.add(Dense(units = 10,activation='softmax'))\n"
      ],
      "execution_count": 97,
      "outputs": []
    },
    {
      "cell_type": "code",
      "metadata": {
        "id": "pzA_N-mF4qib"
      },
      "source": [
        "model.compile(loss=\"sparse_categorical_crossentropy\" ,optimizer = 'adam' ,metrics=['acc'])"
      ],
      "execution_count": 98,
      "outputs": []
    },
    {
      "cell_type": "code",
      "metadata": {
        "colab": {
          "base_uri": "https://localhost:8080/"
        },
        "id": "0e07g9yiFSq0",
        "outputId": "b7f957dd-6b11-4302-e652-0d95bd1db4e0"
      },
      "source": [
        "model.summary()"
      ],
      "execution_count": 45,
      "outputs": [
        {
          "output_type": "stream",
          "text": [
            "Model: \"sequential_2\"\n",
            "_________________________________________________________________\n",
            "Layer (type)                 Output Shape              Param #   \n",
            "=================================================================\n",
            "conv2d_5 (Conv2D)            (None, 24, 24, 4)         104       \n",
            "_________________________________________________________________\n",
            "average_pooling2d_2 (Average (None, 12, 12, 4)         0         \n",
            "_________________________________________________________________\n",
            "conv2d_6 (Conv2D)            (None, 6, 6, 4)           788       \n",
            "_________________________________________________________________\n",
            "average_pooling2d_3 (Average (None, 3, 3, 4)           0         \n",
            "_________________________________________________________________\n",
            "flatten_1 (Flatten)          (None, 36)                0         \n",
            "_________________________________________________________________\n",
            "dense_1 (Dense)              (None, 10)                370       \n",
            "=================================================================\n",
            "Total params: 1,262\n",
            "Trainable params: 1,262\n",
            "Non-trainable params: 0\n",
            "_________________________________________________________________\n"
          ],
          "name": "stdout"
        }
      ]
    },
    {
      "cell_type": "markdown",
      "metadata": {
        "id": "sWbOxBYlFiFY"
      },
      "source": []
    },
    {
      "cell_type": "code",
      "metadata": {
        "colab": {
          "base_uri": "https://localhost:8080/"
        },
        "id": "s2ahfDEaFa4A",
        "outputId": "75193823-9989-44d1-f32a-26218ae3ff42"
      },
      "source": [
        "model.fit(X_train,y_train,epochs= 1,batch_size= 1)"
      ],
      "execution_count": 70,
      "outputs": [
        {
          "output_type": "stream",
          "text": [
            "60000/60000 [==============================] - 119s 2ms/step - loss: 0.8504 - acc: 0.7397\n"
          ],
          "name": "stdout"
        },
        {
          "output_type": "execute_result",
          "data": {
            "text/plain": [
              "<keras.callbacks.History at 0x7f9fde4fa390>"
            ]
          },
          "metadata": {
            "tags": []
          },
          "execution_count": 70
        }
      ]
    },
    {
      "cell_type": "code",
      "metadata": {
        "id": "Bi1gTTfwGwoo"
      },
      "source": [
        "import cv2"
      ],
      "execution_count": 99,
      "outputs": []
    },
    {
      "cell_type": "code",
      "metadata": {
        "id": "uPdbaZY2GzLm"
      },
      "source": [
        "#img=cv2.imread(\"\")"
      ],
      "execution_count": 52,
      "outputs": []
    },
    {
      "cell_type": "code",
      "metadata": {
        "colab": {
          "base_uri": "https://localhost:8080/",
          "height": 283
        },
        "id": "y9q0QI30G8qA",
        "outputId": "39e9b0ce-92f8-4629-e7d8-913b4b7aef4e"
      },
      "source": [
        "plt.imshow(X_test[0])"
      ],
      "execution_count": 100,
      "outputs": [
        {
          "output_type": "execute_result",
          "data": {
            "text/plain": [
              "<matplotlib.image.AxesImage at 0x7f9fdf63efd0>"
            ]
          },
          "metadata": {
            "tags": []
          },
          "execution_count": 100
        },
        {
          "output_type": "display_data",
          "data": {
            "image/png": "[encoded data removed]",
            "text/plain": [
              "<Figure size 432x288 with 1 Axes>"
            ]
          },
          "metadata": {
            "tags": [],
            "needs_background": "light"
          }
        }
      ]
    },
    {
      "cell_type": "code",
      "metadata": {
        "id": "TEP1w9KXG8ya"
      },
      "source": [
        "test=X_test[0].reshape(-1,28,28,1)"
      ],
      "execution_count": 101,
      "outputs": []
    },
    {
      "cell_type": "code",
      "metadata": {
        "colab": {
          "base_uri": "https://localhost:8080/"
        },
        "id": "raNmpSkzG844",
        "outputId": "c9fec9ca-3161-4ff1-8169-957d47938cb1"
      },
      "source": [
        "model.predict_classes(test)"
      ],
      "execution_count": 102,
      "outputs": [
        {
          "output_type": "stream",
          "text": [
            "/usr/local/lib/python3.7/dist-packages/keras/engine/sequential.py:450: UserWarning: `model.predict_classes()` is deprecated and will be removed after 2021-01-01. Please use instead:* `np.argmax(model.predict(x), axis=-1)`,   if your model does multi-class classification   (e.g. if it uses a `softmax` last-layer activation).* `(model.predict(x) > 0.5).astype(\"int32\")`,   if your model does binary classification   (e.g. if it uses a `sigmoid` last-layer activation).\n",
            "  warnings.warn('`model.predict_classes()` is deprecated and '\n"
          ],
          "name": "stderr"
        },
        {
          "output_type": "execute_result",
          "data": {
            "text/plain": [
              "array([7])"
            ]
          },
          "metadata": {
            "tags": []
          },
          "execution_count": 102
        }
      ]
    },
    {
      "cell_type": "code",
      "metadata": {
        "id": "aoyUBadjG87x"
      },
      "source": [
        "model.save(\"./my_model.h5\")"
      ],
      "execution_count": 103,
      "outputs": []
    },
    {
      "cell_type": "code",
      "metadata": {
        "id": "mEhtGICCG8-w"
      },
      "source": [],
      "execution_count": null,
      "outputs": []
    },
    {
      "cell_type": "code",
      "metadata": {
        "id": "dSlgNZT2G9Bm"
      },
      "source": [],
      "execution_count": null,
      "outputs": []
    },
    {
      "cell_type": "code",
      "metadata": {
        "id": "k30fpszdG9Eh"
      },
      "source": [],
      "execution_count": null,
      "outputs": []
    },
    {
      "cell_type": "markdown",
      "metadata": {
        "id": "ZDaon3E6v_SG"
      },
      "source": []
    }
  ]
}